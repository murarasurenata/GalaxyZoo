{
 "cells": [
  {
   "cell_type": "code",
   "execution_count": 1,
   "metadata": {
    "collapsed": true,
    "deletable": true,
    "editable": true
   },
   "outputs": [],
   "source": [
    "# These are all the modules we'll be using later. Make sure you can import them\n",
    "# before proceeding further.\n",
    "from __future__ import print_function\n",
    "import numpy as np\n",
    "import tensorflow as tf\n",
    "from six.moves import cPickle as pickle\n",
    "from six.moves import range\n",
    "from math import sqrt\n",
    "import gc"
   ]
  },
  {
   "cell_type": "code",
   "execution_count": 43,
   "metadata": {
    "collapsed": false,
    "deletable": true,
    "editable": true
   },
   "outputs": [
    {
     "ename": "MemoryError",
     "evalue": "",
     "output_type": "error",
     "traceback": [
      "\u001b[0;31m---------------------------------------------------------------------------\u001b[0m",
      "\u001b[0;31mMemoryError\u001b[0m                               Traceback (most recent call last)",
      "\u001b[0;32m<ipython-input-43-448e786dc955>\u001b[0m in \u001b[0;36m<module>\u001b[0;34m()\u001b[0m\n\u001b[1;32m      2\u001b[0m \u001b[1;33m\u001b[0m\u001b[0m\n\u001b[1;32m      3\u001b[0m \u001b[1;32mwith\u001b[0m \u001b[0mopen\u001b[0m\u001b[1;33m(\u001b[0m\u001b[0mpickle_file\u001b[0m\u001b[1;33m,\u001b[0m \u001b[1;34m'rb'\u001b[0m\u001b[1;33m)\u001b[0m \u001b[1;32mas\u001b[0m \u001b[0mf\u001b[0m\u001b[1;33m:\u001b[0m\u001b[1;33m\u001b[0m\u001b[0m\n\u001b[0;32m----> 4\u001b[0;31m   \u001b[0msave\u001b[0m \u001b[1;33m=\u001b[0m \u001b[0mpickle\u001b[0m\u001b[1;33m.\u001b[0m\u001b[0mload\u001b[0m\u001b[1;33m(\u001b[0m\u001b[0mf\u001b[0m\u001b[1;33m)\u001b[0m\u001b[1;33m\u001b[0m\u001b[0m\n\u001b[0m\u001b[1;32m      5\u001b[0m   \u001b[0mtrain_dataset\u001b[0m \u001b[1;33m=\u001b[0m \u001b[1;33m(\u001b[0m\u001b[0msave\u001b[0m\u001b[1;33m[\u001b[0m\u001b[1;34m'train_dataset'\u001b[0m\u001b[1;33m]\u001b[0m\u001b[1;33m)\u001b[0m\u001b[1;33m\u001b[0m\u001b[0m\n\u001b[1;32m      6\u001b[0m   \u001b[0mtrain_labels\u001b[0m \u001b[1;33m=\u001b[0m \u001b[0msave\u001b[0m\u001b[1;33m[\u001b[0m\u001b[1;34m'train_labels'\u001b[0m\u001b[1;33m]\u001b[0m\u001b[1;33m\u001b[0m\u001b[0m\n",
      "\u001b[0;31mMemoryError\u001b[0m: "
     ]
    }
   ],
   "source": [
    "pickle_file = 'galaxies.pickle'\n",
    "\n",
    "with open(pickle_file, 'rb') as f:\n",
    "  save = pickle.load(f)\n",
    "  train_dataset = (save['train_dataset'])\n",
    "  train_labels = save['train_labels']\n",
    "  valid_dataset = (save['valid_dataset'])[0:1000]\n",
    "  valid_labels = (save['valid_labels'])[0:1000]\n",
    "  test_dataset = (save['test_dataset'])[0:1000]\n",
    "  test_labels = (save['test_labels'])[0:1000]\n",
    "  del save  # hint to help gc free up memory\n",
    "  print('Training set', train_dataset.shape, train_labels.shape)\n",
    "  print('Validation set', valid_dataset.shape, valid_labels.shape)\n",
    "  print('Test set', test_dataset.shape, test_labels.shape)"
   ]
  },
  {
   "cell_type": "code",
   "execution_count": 2,
   "metadata": {
    "collapsed": true,
    "deletable": true,
    "editable": true
   },
   "outputs": [],
   "source": [
    "image_size = 80\n",
    "num_labels = 37\n",
    "num_channels = 1 # grayscale\n",
    "\n",
    "def reformat(dataset):\n",
    "  dataset = dataset.reshape((-1, image_size, image_size, num_channels)).astype(np.float32)\n",
    "  # Map 0 to [1.0, 0.0, 0.0 ...], 1 to [0.0, 1.0, 0.0 ...]\n",
    "  return dataset\n",
    "\n",
    "def accuracy(predictions, labels):\n",
    "    return np.sqrt(((predictions - labels) ** 2).mean())"
   ]
  },
  {
   "cell_type": "code",
   "execution_count": 42,
   "metadata": {
    "collapsed": false,
    "deletable": true,
    "editable": true
   },
   "outputs": [
    {
     "name": "stdout",
     "output_type": "stream",
     "text": [
      "Training set (200000, 80, 80, 1) (200000, 37)\n",
      "Validation set (1000, 80, 80, 1) (1000, 37)\n",
      "Test set (20000, 80, 80, 1) (20000, 37)\n"
     ]
    }
   ],
   "source": [
    "\n",
    "train_dataset = reformat(train_dataset)\n",
    "valid_dataset = reformat(valid_dataset)\n",
    "test_dataset = reformat(test_dataset)\n",
    "print('Training set', train_dataset.shape, train_labels.shape)\n",
    "print('Validation set', valid_dataset.shape, valid_labels.shape)\n",
    "print('Test set', test_dataset.shape, test_labels.shape)"
   ]
  },
  {
   "cell_type": "code",
   "execution_count": 2,
   "metadata": {
    "collapsed": false,
    "deletable": true,
    "editable": true
   },
   "outputs": [
    {
     "data": {
      "text/plain": [
       "0"
      ]
     },
     "execution_count": 2,
     "metadata": {},
     "output_type": "execute_result"
    }
   ],
   "source": [
    "gc.collect()"
   ]
  },
  {
   "cell_type": "code",
   "execution_count": 9,
   "metadata": {
    "collapsed": false,
    "deletable": true,
    "editable": true
   },
   "outputs": [
    {
     "name": "stdout",
     "output_type": "stream",
     "text": [
      "100\n",
      "37\n"
     ]
    }
   ],
   "source": [
    "batch_size = 109\n",
    "patch_size = 5\n",
    "depth = 32 #32, 16\n",
    "num_hidden = 100\n",
    "num_hidden2 = 37\n",
    "beta = 0.0002\n",
    "graph = tf.Graph()\n",
    "\n",
    "with graph.as_default():\n",
    "\n",
    "  # Input data.\n",
    "  tf_train_dataset = tf.placeholder(\n",
    "    tf.float32, shape=(batch_size, image_size, image_size, num_channels))\n",
    "  tf_train_labels = tf.placeholder(tf.float32, shape=(batch_size, num_labels))\n",
    "  \n",
    "  # Variables.\n",
    "  layer1_weights = tf.Variable(tf.truncated_normal(\n",
    "      [patch_size, patch_size, num_channels, depth], stddev=0.1))\n",
    "  layer1_biases = tf.Variable(tf.zeros([depth]))\n",
    "  layer2_weights = tf.Variable(tf.truncated_normal(\n",
    "      [patch_size, patch_size, depth, depth], stddev=0.1))\n",
    "  layer2_biases = tf.Variable(tf.constant(1.0, shape=[depth]))\n",
    "  layer3_weights = tf.Variable(tf.truncated_normal(\n",
    "      [image_size // 4 * image_size // 4 * depth, num_hidden], stddev=sqrt(2.0/(image_size // 4 * image_size // 4 * depth * num_hidden))))\n",
    "  layer3_biases = tf.Variable(tf.constant(1.0, shape=[num_hidden]))\n",
    "  print(str(num_hidden))\n",
    "  layer4_weights = tf.Variable(tf.truncated_normal(\n",
    "      [num_hidden, num_hidden2], stddev=sqrt(2.0/(num_hidden * num_hidden2))))\n",
    "  layer4_biases = tf.Variable(tf.constant(1.0, shape=[num_hidden2]))\n",
    "  print(str(num_hidden2))\n",
    "  layer5_weights = tf.Variable(tf.truncated_normal(\n",
    "      [num_hidden2, num_labels], stddev=sqrt(2.0/(num_hidden2 * num_labels))))\n",
    "  layer5_biases = tf.Variable(tf.constant(1.0, shape=[num_labels]))\n",
    "  # Model.\n",
    "  def model(data):\n",
    "    conv = tf.nn.conv2d(data, layer1_weights, [1, 1, 1, 1], padding='SAME')\n",
    "    hidden1 = tf.nn.relu(conv + layer1_biases)\n",
    "    hidden =  tf.nn.max_pool(hidden1, [1,2,2,1], [1,2,2,1],padding='SAME')\n",
    "    conv = tf.nn.conv2d(hidden, layer2_weights, [1, 1, 1, 1], padding='SAME')\n",
    "    hidden1 = tf.nn.relu(conv + layer2_biases)\n",
    "    hidden =  tf.nn.max_pool(hidden1, [1,2,2,1], [1,2,2,1],padding='SAME')\n",
    "    shape = hidden.get_shape().as_list()\n",
    "    reshape = tf.reshape(hidden, [shape[0], shape[1] * shape[2] * shape[3]])\n",
    "    hidden = tf.nn.relu(tf.matmul(reshape, layer3_weights) + layer3_biases)\n",
    "    hidden2 = tf.nn.relu(tf.matmul(hidden, layer4_weights) + layer4_biases)\n",
    "    return tf.matmul(hidden2, layer5_weights) + layer5_biases\n",
    "  \n",
    "  # Training computation.\n",
    "  logits = model(tf_train_dataset)\n",
    "  loss1 = tf.sqrt(tf.reduce_mean(tf.square(tf.subtract(logits, tf_train_labels))))\n",
    "  loss = loss1 + beta * (tf.nn.l2_loss(layer1_weights) + tf.nn.l2_loss(layer2_weights) + tf.nn.l2_loss(layer3_weights) + tf.nn.l2_loss(layer4_weights) + tf.nn.l2_loss(layer5_weights))\n",
    "    \n",
    " # Optimizer.\n",
    "  global_step = tf.Variable(0)  # count the number of steps taken.\n",
    "  learning_rate = tf.train.exponential_decay(0.3, global_step, 5000 ,0.96, staircase = True) #5000\n",
    "  optimizer = tf.train.GradientDescentOptimizer(learning_rate).minimize(loss, global_step=global_step)\n",
    "  \n",
    "  # Predictions for the training, validation, and test data.\n",
    "  def prediction(logits):\n",
    "    pred1 = tf.nn.softmax(logits[:,0:3])\n",
    "    pred2 = tf.nn.relu(logits[:,3:num_labels])\n",
    "    pred = tf.concat([pred1, pred2],1)\n",
    "    return pred\n",
    "  train_prediction1 = prediction(logits)\n",
    "   #drop out some of the predictions\n",
    "  train_prediction = tf.nn.dropout(train_prediction1,0.5)\n",
    "  \n",
    "\n",
    "  valid_prediction =prediction(model(valid_dataset))\n",
    "  test_prediction = prediction(model(test_dataset))\n",
    "\n",
    "  tf.add_to_collection('vars',  layer1_weights)\n",
    "  tf.add_to_collection('vars',  layer2_weights)\n",
    "  tf.add_to_collection('vars',  layer3_weights)\n",
    "  tf.add_to_collection('vars',  layer4_weights)\n",
    "  tf.add_to_collection('vars',  layer5_weights)\n",
    "  tf.add_to_collection('vars',  layer1_biases)\n",
    "  tf.add_to_collection('vars',  layer2_biases)\n",
    "  tf.add_to_collection('vars',  layer3_biases)\n",
    "  tf.add_to_collection('vars',  layer4_biases)\n",
    "  tf.add_to_collection('vars',  layer5_biases)\n",
    "  saver = tf.train.Saver(write_version=tf.train.SaverDef.V2)\n"
   ]
  },
  {
   "cell_type": "code",
   "execution_count": 11,
   "metadata": {
    "collapsed": false,
    "deletable": true,
    "editable": true,
    "scrolled": true
   },
   "outputs": [
    {
     "name": "stdout",
     "output_type": "stream",
     "text": [
      "Initialized\n",
      "Minibatch loss at step 0: 0.967561\n",
      "Minibatch accuracy: 1.379410\n",
      "Validation accuracy: 0.558548\n",
      "Minibatch loss at step 500: 0.182487\n",
      "Minibatch accuracy: 0.255750\n",
      "Validation accuracy: 0.170444\n",
      "Minibatch loss at step 1000: 0.181097\n",
      "Minibatch accuracy: 0.261022\n",
      "Validation accuracy: 0.163040\n",
      "Minibatch loss at step 1500: 0.174984\n",
      "Minibatch accuracy: 0.275200\n",
      "Validation accuracy: 0.159702\n",
      "Minibatch loss at step 2000: 0.175893\n",
      "Minibatch accuracy: 0.272855\n",
      "Validation accuracy: 0.153238\n",
      "Minibatch loss at step 2500: 0.158247\n",
      "Minibatch accuracy: 0.277742\n",
      "Validation accuracy: 0.150019\n",
      "Minibatch loss at step 3000: 0.151078\n",
      "Minibatch accuracy: 0.265475\n",
      "Validation accuracy: 0.146826\n",
      "Minibatch loss at step 3500: 0.158876\n",
      "Minibatch accuracy: 0.278939\n",
      "Validation accuracy: 0.145241\n",
      "Minibatch loss at step 4000: 0.146287\n",
      "Minibatch accuracy: 0.269824\n",
      "Validation accuracy: 0.145007\n",
      "Minibatch loss at step 4500: 0.143180\n",
      "Minibatch accuracy: 0.262504\n",
      "Validation accuracy: 0.147496\n",
      "Minibatch loss at step 5000: 0.154904\n",
      "Minibatch accuracy: 0.259766\n",
      "Validation accuracy: 0.144590\n",
      "Minibatch loss at step 5500: 0.142218\n",
      "Minibatch accuracy: 0.274280\n",
      "Validation accuracy: 0.144427\n",
      "Minibatch loss at step 6000: 0.147014\n",
      "Minibatch accuracy: 0.276175\n",
      "Validation accuracy: 0.142863\n",
      "Minibatch loss at step 6500: 0.135402\n",
      "Minibatch accuracy: 0.270507\n",
      "Validation accuracy: 0.144229\n",
      "Minibatch loss at step 7000: 0.147874\n",
      "Minibatch accuracy: 0.268474\n",
      "Validation accuracy: 0.139840\n",
      "Minibatch loss at step 7500: 0.140600\n",
      "Minibatch accuracy: 0.255715\n",
      "Validation accuracy: 0.138468\n",
      "Minibatch loss at step 8000: 0.130789\n",
      "Minibatch accuracy: 0.260556\n",
      "Validation accuracy: 0.136798\n",
      "Minibatch loss at step 8500: 0.146667\n",
      "Minibatch accuracy: 0.266215\n",
      "Validation accuracy: 0.141854\n",
      "Minibatch loss at step 9000: 0.146236\n",
      "Minibatch accuracy: 0.279817\n",
      "Validation accuracy: 0.141923\n",
      "Minibatch loss at step 9500: 0.141135\n",
      "Minibatch accuracy: 0.260403\n",
      "Validation accuracy: 0.133861\n",
      "Minibatch loss at step 10000: 0.137320\n",
      "Minibatch accuracy: 0.268266\n",
      "Validation accuracy: 0.135372\n",
      "Minibatch loss at step 10500: 0.129578\n",
      "Minibatch accuracy: 0.259716\n",
      "Validation accuracy: 0.140223\n",
      "Minibatch loss at step 11000: 0.133038\n",
      "Minibatch accuracy: 0.265558\n",
      "Validation accuracy: 0.135731\n",
      "Minibatch loss at step 11500: 0.124196\n",
      "Minibatch accuracy: 0.271928\n",
      "Validation accuracy: 0.128905\n",
      "Minibatch loss at step 12000: 0.125706\n",
      "Minibatch accuracy: 0.254283\n",
      "Validation accuracy: 0.130506\n",
      "Minibatch loss at step 12500: 0.138161\n",
      "Minibatch accuracy: 0.268970\n",
      "Validation accuracy: 0.132610\n",
      "Minibatch loss at step 13000: 0.128358\n",
      "Minibatch accuracy: 0.267637\n",
      "Validation accuracy: 0.127176\n",
      "Minibatch loss at step 13500: 0.129041\n",
      "Minibatch accuracy: 0.272535\n",
      "Validation accuracy: 0.129363\n",
      "Minibatch loss at step 14000: 0.128342\n",
      "Minibatch accuracy: 0.272273\n",
      "Validation accuracy: 0.128830\n",
      "Minibatch loss at step 14500: 0.124086\n",
      "Minibatch accuracy: 0.271736\n",
      "Validation accuracy: 0.127592\n",
      "Minibatch loss at step 15000: 0.117771\n",
      "Minibatch accuracy: 0.260498\n",
      "Validation accuracy: 0.126088\n",
      "Minibatch loss at step 15500: 0.115557\n",
      "Minibatch accuracy: 0.263132\n",
      "Validation accuracy: 0.125118\n",
      "Minibatch loss at step 16000: 0.126850\n",
      "Minibatch accuracy: 0.261745\n",
      "Validation accuracy: 0.127723\n",
      "Minibatch loss at step 16500: 0.122501\n",
      "Minibatch accuracy: 0.269124\n",
      "Validation accuracy: 0.124810\n",
      "Minibatch loss at step 17000: 0.125573\n",
      "Minibatch accuracy: 0.272738\n",
      "Validation accuracy: 0.125429\n",
      "Minibatch loss at step 17500: 0.124882\n",
      "Minibatch accuracy: 0.271594\n",
      "Validation accuracy: 0.123708\n",
      "Minibatch loss at step 18000: 0.122572\n",
      "Minibatch accuracy: 0.261817\n",
      "Validation accuracy: 0.124609\n",
      "Minibatch loss at step 18500: 0.119330\n",
      "Minibatch accuracy: 0.273287\n",
      "Validation accuracy: 0.123253\n",
      "Minibatch loss at step 19000: 0.129684\n",
      "Minibatch accuracy: 0.284709\n",
      "Validation accuracy: 0.126411\n",
      "Minibatch loss at step 19500: 0.117475\n",
      "Minibatch accuracy: 0.259638\n",
      "Validation accuracy: 0.122500\n",
      "Test accuracy: 0.121049\n"
     ]
    }
   ],
   "source": [
    "num_steps = 20000\n",
    "\n",
    "with tf.Session(graph=graph) as session:\n",
    "  tf.global_variables_initializer().run()\n",
    "  print('Initialized')\n",
    "  for step in range(num_steps):\n",
    "    offset = (step * batch_size) % (train_labels.shape[0] - batch_size)\n",
    "    batch_data = train_dataset[offset:(offset + batch_size), :, :, :]\n",
    "    batch_labels = train_labels[offset:(offset + batch_size), :]\n",
    "    feed_dict = {tf_train_dataset : batch_data, tf_train_labels : batch_labels}\n",
    "    _, l, predictions = session.run(\n",
    "      [optimizer, loss, train_prediction], feed_dict=feed_dict)\n",
    "    if (step % 500 == 0):\n",
    "      gc.collect()\n",
    "      print('Minibatch loss at step %d: %f' % (step, l))\n",
    "      print('Minibatch accuracy: %f' % accuracy(predictions, batch_labels))\n",
    "      print('Validation accuracy: %f' % accuracy(\n",
    "        valid_prediction.eval(), valid_labels))\n",
    "      saver.save(session, './my-model3.ckpt')\n",
    "  print('Test accuracy: %f' % accuracy(test_prediction.eval(), test_labels))\n",
    "  "
   ]
  },
  {
   "cell_type": "code",
   "execution_count": 3,
   "metadata": {
    "collapsed": false,
    "deletable": true,
    "editable": true
   },
   "outputs": [
    {
     "name": "stdout",
     "output_type": "stream",
     "text": [
      "Training set (1, 80, 80) (1, 37)\n",
      "Validation set (20000, 80, 80) (20000, 37)\n",
      "Test set (20000, 80, 80) (20000, 37)\n"
     ]
    }
   ],
   "source": [
    "pickle_file = 'galaxies.pickle'\n",
    "\n",
    "with open(pickle_file, 'rb') as f:\n",
    "  save = pickle.load(f)\n",
    "  train_dataset = (save['train_dataset'])[0:1]\n",
    "  train_labels = (save['train_labels'])[0:1]\n",
    "  valid_dataset = (save['valid_dataset'])\n",
    "  valid_labels = (save['valid_labels'])\n",
    "  test_dataset = (save['test_dataset'])\n",
    "  test_labels = (save['test_labels'])\n",
    "  del save  # hint to help gc free up memory\n",
    "  print('Training set', train_dataset.shape, train_labels.shape)\n",
    "  print('Validation set', valid_dataset.shape, valid_labels.shape)\n",
    "  print('Test set', test_dataset.shape, test_labels.shape)\n"
   ]
  },
  {
   "cell_type": "code",
   "execution_count": 4,
   "metadata": {
    "collapsed": false,
    "deletable": true,
    "editable": true
   },
   "outputs": [
    {
     "name": "stdout",
     "output_type": "stream",
     "text": [
      "Training set (1, 80, 80, 1) (1, 37)\n",
      "Validation set (20000, 80, 80, 1) (20000, 37)\n",
      "Test set (20000, 80, 80, 1) (20000, 37)\n"
     ]
    }
   ],
   "source": [
    "\n",
    "train_dataset = reformat(train_dataset)\n",
    "valid_dataset = reformat(valid_dataset)\n",
    "test_dataset = reformat(test_dataset)\n",
    "print('Training set', train_dataset.shape, train_labels.shape)\n",
    "print('Validation set', valid_dataset.shape, valid_labels.shape)\n",
    "print('Test set', test_dataset.shape, test_labels.shape)"
   ]
  },
  {
   "cell_type": "code",
   "execution_count": 16,
   "metadata": {
    "collapsed": false,
    "deletable": true,
    "editable": true
   },
   "outputs": [
    {
     "name": "stdout",
     "output_type": "stream",
     "text": [
      "Model restored.\n",
      "Initialized\n",
      "Test accuracy: 0.124516\n"
     ]
    }
   ],
   "source": [
    "\n",
    "with tf.Session(graph=graph) as session:\n",
    "    tf.global_variables_initializer().run()\n",
    "    \n",
    "    saver.restore(session, './my-model2.ckpt')\n",
    "    print(\"Model restored.\") \n",
    "    print('Initialized')\n",
    "    \n",
    "    print('Test accuracy: %f' % accuracy((prediction(model(test_dataset[10000:11000]))).eval(), test_labels[10000:11000]))"
   ]
  },
  {
   "cell_type": "code",
   "execution_count": null,
   "metadata": {
    "collapsed": true,
    "deletable": true,
    "editable": true
   },
   "outputs": [],
   "source": []
  }
 ],
 "metadata": {
  "kernelspec": {
   "display_name": "Python 3",
   "language": "python",
   "name": "python3"
  },
  "language_info": {
   "codemirror_mode": {
    "name": "ipython",
    "version": 3
   },
   "file_extension": ".py",
   "mimetype": "text/x-python",
   "name": "python",
   "nbconvert_exporter": "python",
   "pygments_lexer": "ipython3",
   "version": "3.5.2"
  }
 },
 "nbformat": 4,
 "nbformat_minor": 2
}
