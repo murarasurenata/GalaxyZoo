{
 "cells": [
  {
   "cell_type": "code",
   "execution_count": 15,
   "metadata": {
    "collapsed": true,
    "deletable": true,
    "editable": true
   },
   "outputs": [],
   "source": [
    "from __future__ import print_function\n",
    "import numpy as np\n",
    "import tensorflow as tf\n",
    "from six.moves import cPickle as pickle\n",
    "from six.moves import range\n",
    "from math import sqrt\n",
    "import matplotlib.pyplot as plt\n",
    "import gc"
   ]
  },
  {
   "cell_type": "code",
   "execution_count": 16,
   "metadata": {
    "collapsed": true,
    "deletable": true,
    "editable": true
   },
   "outputs": [],
   "source": [
    "image_size = 80\n",
    "num_labels = 37\n",
    "num_channels = 1 # grayscale\n",
    "\n",
    "def reformat(dataset):\n",
    "  dataset = dataset.reshape((-1, image_size, image_size, num_channels)).astype(np.float32)\n",
    "  return dataset\n",
    "\n",
    "def accuracy(predictions, labels):\n",
    "    return np.sqrt(((predictions - labels) ** 2).mean())\n"
   ]
  },
  {
   "cell_type": "code",
   "execution_count": 17,
   "metadata": {
    "collapsed": false,
    "deletable": true,
    "editable": true
   },
   "outputs": [
    {
     "name": "stdout",
     "output_type": "stream",
     "text": [
      "Training set (1, 80, 80) (1, 37)\n",
      "Validation set (20000, 80, 80) (20000, 37)\n",
      "Test set (20000, 80, 80) (20000, 37)\n"
     ]
    }
   ],
   "source": [
    "pickle_file = 'galaxies.pickle'\n",
    "\n",
    "with open(pickle_file, 'rb') as f:\n",
    "  save = pickle.load(f)\n",
    "  train_dataset = (save['train_dataset'])[0:1]\n",
    "  train_labels = (save['train_labels'])[0:1]\n",
    "  valid_dataset = (save['valid_dataset'])\n",
    "  valid_labels = (save['valid_labels'])\n",
    "  test_dataset = (save['test_dataset'])\n",
    "  test_labels = (save['test_labels'])\n",
    "\n",
    "  del save  # hint to help gc free up memory\n",
    "    \n",
    "  print('Training set', train_dataset.shape, train_labels.shape)\n",
    "  print('Validation set', valid_dataset.shape, valid_labels.shape)\n",
    "  print('Test set', test_dataset.shape, test_labels.shape)"
   ]
  },
  {
   "cell_type": "code",
   "execution_count": 18,
   "metadata": {
    "collapsed": false,
    "deletable": true,
    "editable": true
   },
   "outputs": [
    {
     "name": "stdout",
     "output_type": "stream",
     "text": [
      "Training set (1, 80, 80, 1) (1, 37)\n",
      "Validation set (20000, 80, 80, 1) (20000, 37)\n",
      "Test set (20000, 80, 80, 1) (20000, 37)\n"
     ]
    }
   ],
   "source": [
    "\n",
    "train_dataset = reformat(train_dataset)\n",
    "valid_dataset = reformat(valid_dataset)\n",
    "test_dataset = reformat(test_dataset)\n",
    "\n",
    "print('Training set', train_dataset.shape, train_labels.shape)\n",
    "print('Validation set', valid_dataset.shape, valid_labels.shape)\n",
    "print('Test set', test_dataset.shape, test_labels.shape)"
   ]
  },
  {
   "cell_type": "code",
   "execution_count": 19,
   "metadata": {
    "collapsed": false,
    "deletable": true,
    "editable": true
   },
   "outputs": [
    {
     "data": {
      "text/plain": [
       "103719"
      ]
     },
     "execution_count": 19,
     "metadata": {},
     "output_type": "execute_result"
    }
   ],
   "source": [
    "gc.collect()"
   ]
  },
  {
   "cell_type": "code",
   "execution_count": 6,
   "metadata": {
    "collapsed": false,
    "deletable": true,
    "editable": true
   },
   "outputs": [
    {
     "name": "stdout",
     "output_type": "stream",
     "text": [
      "64\n",
      "64\n"
     ]
    }
   ],
   "source": [
    "#   MODEL 5\n",
    "batch_size = 128 #109\n",
    "patch_size = 5\n",
    "depth = 32 #32, 16\n",
    "num_hidden = 64 #100\n",
    "num_hidden2 = 64 #37\n",
    "beta = 0.0002#0.0002\n",
    "graph = tf.Graph()\n",
    "\n",
    "with graph.as_default():\n",
    "\n",
    "  # Input data.\n",
    "  tf_train_dataset = tf.placeholder(\n",
    "    tf.float32, shape=(batch_size, image_size, image_size, num_channels))\n",
    "  tf_train_labels = tf.placeholder(tf.float32, shape=(batch_size, num_labels))\n",
    "  \n",
    "  # Variables.\n",
    "  layer1_weights = tf.Variable(tf.truncated_normal(\n",
    "      [patch_size, patch_size, num_channels, depth], stddev=0.1))\n",
    "  layer1_biases = tf.Variable(tf.zeros([depth]))\n",
    "  layer2_weights = tf.Variable(tf.truncated_normal(\n",
    "      [patch_size, patch_size, depth, depth], stddev=0.1))\n",
    "  layer2_biases = tf.Variable(tf.constant(1.0, shape=[depth]))\n",
    "  layer3_weights = tf.Variable(tf.truncated_normal(\n",
    "      [image_size // 4 * image_size // 4 * depth, num_hidden], stddev=sqrt(2.0/(image_size // 4 * image_size // 4 * depth * num_hidden))))\n",
    "  layer3_biases = tf.Variable(tf.constant(1.0, shape=[num_hidden]))\n",
    "  print(str(num_hidden))\n",
    "  layer4_weights = tf.Variable(tf.truncated_normal(\n",
    "      [num_hidden, num_hidden2], stddev=sqrt(2.0/(num_hidden * num_hidden2))))\n",
    "  layer4_biases = tf.Variable(tf.constant(1.0, shape=[num_hidden2]))\n",
    "  print(str(num_hidden2))\n",
    "  layer5_weights = tf.Variable(tf.truncated_normal(\n",
    "      [num_hidden2, num_labels], stddev=sqrt(2.0/(num_hidden2 * num_labels))))\n",
    "  layer5_biases = tf.Variable(tf.constant(1.0, shape=[num_labels]))\n",
    "\n",
    "  # Model.\n",
    "  def model(data):\n",
    "    conv = tf.nn.conv2d(data, layer1_weights, [1, 1, 1, 1], padding='SAME')\n",
    "    hidden1 = tf.nn.relu(conv + layer1_biases)\n",
    "    hidden =  tf.nn.max_pool(hidden1, [1,2,2,1], [1,2,2,1],padding='SAME')\n",
    "    conv = tf.nn.conv2d(hidden, layer2_weights, [1, 1, 1, 1], padding='SAME')\n",
    "    hidden1 = tf.nn.relu(conv + layer2_biases)\n",
    "    hidden =  tf.nn.max_pool(hidden1, [1,2,2,1], [1,2,2,1],padding='SAME')\n",
    "    shape = hidden.get_shape().as_list()\n",
    "    reshape = tf.reshape(hidden, [shape[0], shape[1] * shape[2] * shape[3]])\n",
    "    hidden = tf.nn.relu(tf.matmul(reshape, layer3_weights) + layer3_biases)\n",
    "    hidden2 = tf.nn.relu(tf.matmul(hidden, layer4_weights) + layer4_biases)\n",
    "    return tf.matmul(hidden2, layer5_weights) + layer5_biases\n",
    "  \n",
    "  # Training computation.\n",
    "  logits = model(tf_train_dataset)\n",
    "  loss1 = tf.sqrt(tf.reduce_mean(tf.square(tf.subtract(logits, tf_train_labels))))\n",
    "  loss = loss1 + beta * (tf.nn.l2_loss(layer1_weights) + tf.nn.l2_loss(layer2_weights) + tf.nn.l2_loss(layer3_weights) + tf.nn.l2_loss(layer4_weights) + tf.nn.l2_loss(layer5_weights))\n",
    "    \n",
    " # Optimizer.\n",
    "  global_step = tf.Variable(0)  # count the number of steps taken.\n",
    "  #learning_rate = tf.train.exponential_decay(0.3, global_step, 5000 ,0.96, staircase = True) #5000\n",
    "  learning_rate = tf.Variable(0.3)\n",
    "  optimizer = tf.train.AdagradOptimizer(learning_rate).minimize(loss, global_step=global_step)\n",
    "   \n",
    "\n",
    "  # Predictions for the training, validation, and test data.\n",
    "  def prediction(logits):\n",
    "    pred1 = tf.nn.softmax(logits[:,0:3])\n",
    "    pred2 = tf.nn.relu(logits[:,3:num_labels])\n",
    "    pred = tf.concat([pred1, pred2],1)\n",
    "    return pred\n",
    "  train_prediction1 = prediction(logits)\n",
    "   #drop out some of the predictions\n",
    "  train_prediction = tf.nn.dropout(train_prediction1,0.5)\n",
    "  \n",
    "\n",
    "  valid_prediction =prediction(model(valid_dataset))\n",
    "  test_prediction = prediction(model(test_dataset))\n",
    "\n",
    "  tf.add_to_collection('vars',  layer1_weights)\n",
    "  tf.add_to_collection('vars',  layer2_weights)\n",
    "  tf.add_to_collection('vars',  layer3_weights)\n",
    "  tf.add_to_collection('vars',  layer4_weights)\n",
    "  tf.add_to_collection('vars',  layer5_weights)\n",
    "  tf.add_to_collection('vars',  layer1_biases)\n",
    "  tf.add_to_collection('vars',  layer2_biases)\n",
    "  tf.add_to_collection('vars',  layer3_biases)\n",
    "  tf.add_to_collection('vars',  layer4_biases)\n",
    "  tf.add_to_collection('vars',  layer5_biases)\n",
    "  saver = tf.train.Saver(write_version=tf.train.SaverDef.V2)"
   ]
  },
  {
   "cell_type": "code",
   "execution_count": 7,
   "metadata": {
    "collapsed": false,
    "deletable": true,
    "editable": true
   },
   "outputs": [
    {
     "name": "stdout",
     "output_type": "stream",
     "text": [
      "Model restored.\n",
      "Initialized\n",
      "Test accuracy: 0.112352\n"
     ]
    }
   ],
   "source": [
    "gc.collect()\n",
    "acc = 0\n",
    "t = []\n",
    "with tf.Session(graph=graph) as session:\n",
    "    tf.global_variables_initializer().run()\n",
    "    \n",
    "    saver.restore(session, './my-model5.ckpt')\n",
    "    print(\"Model restored.\") \n",
    "    print('Initialized')\n",
    "    for i in range(0,20): \n",
    "        a = accuracy((prediction(model(valid_dataset[i*1000:(i+1)*1000]))).eval(), valid_labels[i*1000:(i+1)*1000])\n",
    "        acc = acc + a\n",
    "        t.append(a)\n",
    "    plt.plot(range(0,20), t, 'r')\n",
    "    plt.axis([0, 20, 0, 0.2])\n",
    "    acc = acc / 20\n",
    "    print('Test accuracy: %f' % acc)"
   ]
  },
  {
   "cell_type": "code",
   "execution_count": 8,
   "metadata": {
    "collapsed": false,
    "deletable": true,
    "editable": true
   },
   "outputs": [
    {
     "name": "stdout",
     "output_type": "stream",
     "text": [
      "100\n",
      "37\n"
     ]
    }
   ],
   "source": [
    "# MODEL 6\n",
    "batch_size = 128 #109\n",
    "patch_size = 5\n",
    "depth = 32 #32, 16\n",
    "num_hidden = 100\n",
    "num_hidden2 = 37\n",
    "beta = 0.0002#0.0002\n",
    "graph = tf.Graph()\n",
    "\n",
    "with graph.as_default():\n",
    "\n",
    "  # Input data.\n",
    "  tf_train_dataset = tf.placeholder(\n",
    "    tf.float32, shape=(batch_size, image_size, image_size, num_channels))\n",
    "  tf_train_labels = tf.placeholder(tf.float32, shape=(batch_size, num_labels))\n",
    "  \n",
    "  # Variables.\n",
    "  layer1_weights = tf.Variable(tf.truncated_normal(\n",
    "      [patch_size, patch_size, num_channels, depth], stddev=0.1))\n",
    "  layer1_biases = tf.Variable(tf.zeros([depth]))\n",
    "  layer2_weights = tf.Variable(tf.truncated_normal(\n",
    "      [patch_size, patch_size, depth, depth], stddev=0.1))\n",
    "  layer2_biases = tf.Variable(tf.constant(1.0, shape=[depth]))\n",
    "  layer3_weights = tf.Variable(tf.truncated_normal(\n",
    "      [image_size // 4 * image_size // 4 * depth, num_hidden], stddev=sqrt(2.0/(image_size // 4 * image_size // 4 * depth * num_hidden))))\n",
    "  layer3_biases = tf.Variable(tf.constant(1.0, shape=[num_hidden]))\n",
    "  print(str(num_hidden))\n",
    "  layer4_weights = tf.Variable(tf.truncated_normal(\n",
    "      [num_hidden, num_hidden2], stddev=sqrt(2.0/(num_hidden * num_hidden2))))\n",
    "  layer4_biases = tf.Variable(tf.constant(1.0, shape=[num_hidden2]))\n",
    "  print(str(num_hidden2))\n",
    "  layer5_weights = tf.Variable(tf.truncated_normal(\n",
    "      [num_hidden2, num_labels], stddev=sqrt(2.0/(num_hidden2 * num_labels))))\n",
    "  layer5_biases = tf.Variable(tf.constant(1.0, shape=[num_labels]))\n",
    "\n",
    "  # Model.\n",
    "  def model(data):\n",
    "    conv = tf.nn.conv2d(data, layer1_weights, [1, 1, 1, 1], padding='SAME')\n",
    "    hidden1 = tf.nn.relu(conv + layer1_biases)\n",
    "    hidden =  tf.nn.max_pool(hidden1, [1,2,2,1], [1,2,2,1],padding='SAME')\n",
    "    conv = tf.nn.conv2d(hidden, layer2_weights, [1, 1, 1, 1], padding='SAME')\n",
    "    hidden1 = tf.nn.relu(conv + layer2_biases)\n",
    "    hidden =  tf.nn.max_pool(hidden1, [1,2,2,1], [1,2,2,1],padding='SAME')\n",
    "    shape = hidden.get_shape().as_list()\n",
    "    reshape = tf.reshape(hidden, [shape[0], shape[1] * shape[2] * shape[3]])\n",
    "    hidden = tf.nn.relu(tf.matmul(reshape, layer3_weights) + layer3_biases)\n",
    "    hidden2 = tf.nn.relu(tf.matmul(hidden, layer4_weights) + layer4_biases)\n",
    "    return tf.matmul(hidden2, layer5_weights) + layer5_biases\n",
    "  \n",
    "  # Training computation.\n",
    "  logits = model(tf_train_dataset)\n",
    "  loss1 = tf.sqrt(tf.reduce_mean(tf.square(tf.subtract(logits, tf_train_labels))))\n",
    "  loss = loss1 + beta * (tf.nn.l2_loss(layer1_weights) + tf.nn.l2_loss(layer2_weights) + tf.nn.l2_loss(layer3_weights) + tf.nn.l2_loss(layer4_weights) + tf.nn.l2_loss(layer5_weights))\n",
    "    \n",
    " # Optimizer.\n",
    "  global_step = tf.Variable(0)  # count the number of steps taken.\n",
    "  #learning_rate = tf.train.exponential_decay(0.3, global_step, 5000 ,0.96, staircase = True) #5000\n",
    "  learning_rate = tf.Variable(0.3)\n",
    "  optimizer = tf.train.AdagradOptimizer(learning_rate).minimize(loss, global_step=global_step)\n",
    "   \n",
    "\n",
    "  # Predictions for the training, validation, and test data.\n",
    "  def prediction(logits):\n",
    "    pred1 = tf.nn.softmax(logits[:,0:3])\n",
    "    pred2 = tf.nn.relu(logits[:,3:num_labels])\n",
    "    pred = tf.concat([pred1, pred2],1)\n",
    "    return pred\n",
    "  train_prediction1 = prediction(logits)\n",
    "    \n",
    "   #drop out some of the predictions\n",
    "  train_prediction = tf.nn.dropout(train_prediction1,0.5)\n",
    "  \n",
    "\n",
    "  valid_prediction =prediction(model(valid_dataset))\n",
    "  test_prediction = prediction(model(test_dataset))\n",
    "\n",
    "  tf.add_to_collection('vars',  layer1_weights)\n",
    "  tf.add_to_collection('vars',  layer2_weights)\n",
    "  tf.add_to_collection('vars',  layer3_weights)\n",
    "  tf.add_to_collection('vars',  layer4_weights)\n",
    "  tf.add_to_collection('vars',  layer5_weights)\n",
    "  tf.add_to_collection('vars',  layer1_biases)\n",
    "  tf.add_to_collection('vars',  layer2_biases)\n",
    "  tf.add_to_collection('vars',  layer3_biases)\n",
    "  tf.add_to_collection('vars',  layer4_biases)\n",
    "  tf.add_to_collection('vars',  layer5_biases)\n",
    "  saver = tf.train.Saver(write_version=tf.train.SaverDef.V2)"
   ]
  },
  {
   "cell_type": "code",
   "execution_count": 20,
   "metadata": {
    "collapsed": false,
    "deletable": true,
    "editable": true
   },
   "outputs": [
    {
     "name": "stdout",
     "output_type": "stream",
     "text": [
      "Model restored.\n",
      "Initialized\n",
      "Test accuracy: 0.123348\n"
     ]
    }
   ],
   "source": [
    "gc.collect()\n",
    "acc = 0\n",
    "t = []\n",
    "with tf.Session(graph=graph) as session:\n",
    "    tf.global_variables_initializer().run()\n",
    "    \n",
    "    saver.restore(session, './my-model6.ckpt')\n",
    "    print(\"Model restored.\") \n",
    "    print('Initialized')\n",
    "    for i in range(0,20): \n",
    "        a = accuracy((prediction(model(test_dataset[i*1000:(i+1)*1000]))).eval(), test_labels[i*1000:(i+1)*1000])\n",
    "        acc = acc + a\n",
    "        t.append(a)\n",
    "    plt.plot(range(0,20), t, 'b')\n",
    "    plt.axis([0, 20, 0, 0.2])\n",
    "    acc = acc / 20\n",
    "    print('Test accuracy: %f' % acc)"
   ]
  },
  {
   "cell_type": "code",
   "execution_count": 10,
   "metadata": {
    "collapsed": false,
    "deletable": true,
    "editable": true
   },
   "outputs": [
    {
     "name": "stdout",
     "output_type": "stream",
     "text": [
      "100\n",
      "37\n"
     ]
    }
   ],
   "source": [
    "#   MODEL 7\n",
    "batch_size = 109\n",
    "patch_size = 5\n",
    "depth = 32 #32, 16\n",
    "num_hidden = 100\n",
    "num_hidden2 = 37\n",
    "beta = 0.0002#0.0002\n",
    "graph = tf.Graph()\n",
    "\n",
    "with graph.as_default():\n",
    "\n",
    "  # Input data.\n",
    "  tf_train_dataset = tf.placeholder(\n",
    "    tf.float32, shape=(batch_size, image_size, image_size, num_channels))\n",
    "  tf_train_labels = tf.placeholder(tf.float32, shape=(batch_size, num_labels))\n",
    "  \n",
    "  # Variables.\n",
    "  layer1_weights = tf.Variable(tf.truncated_normal(\n",
    "      [patch_size, patch_size, num_channels, depth], stddev=0.1))\n",
    "  layer1_biases = tf.Variable(tf.zeros([depth]))\n",
    "  layer2_weights = tf.Variable(tf.truncated_normal(\n",
    "      [patch_size, patch_size, depth, depth], stddev=0.1))\n",
    "  layer2_biases = tf.Variable(tf.constant(1.0, shape=[depth]))\n",
    "  layer3_weights = tf.Variable(tf.truncated_normal(\n",
    "      [image_size // 4 * image_size // 4 * depth, num_hidden], stddev=sqrt(2.0/(image_size // 4 * image_size // 4 * depth * num_hidden))))\n",
    "  layer3_biases = tf.Variable(tf.constant(1.0, shape=[num_hidden]))\n",
    "  print(str(num_hidden))\n",
    "  layer4_weights = tf.Variable(tf.truncated_normal(\n",
    "      [num_hidden, num_hidden2], stddev=sqrt(2.0/(num_hidden * num_hidden2))))\n",
    "  layer4_biases = tf.Variable(tf.constant(1.0, shape=[num_hidden2]))\n",
    "  print(str(num_hidden2))\n",
    "  layer5_weights = tf.Variable(tf.truncated_normal(\n",
    "      [num_hidden2, num_labels], stddev=sqrt(2.0/(num_hidden2 * num_labels))))\n",
    "  layer5_biases = tf.Variable(tf.constant(1.0, shape=[num_labels]))\n",
    "\n",
    "  # Model.\n",
    "  def model(data):\n",
    "    conv = tf.nn.conv2d(data, layer1_weights, [1, 1, 1, 1], padding='SAME')\n",
    "    hidden1 = tf.nn.relu(conv + layer1_biases)\n",
    "    hidden =  tf.nn.max_pool(hidden1, [1,2,2,1], [1,2,2,1],padding='SAME')\n",
    "    conv = tf.nn.conv2d(hidden, layer2_weights, [1, 1, 1, 1], padding='SAME')\n",
    "    hidden1 = tf.nn.relu(conv + layer2_biases)\n",
    "    hidden =  tf.nn.max_pool(hidden1, [1,2,2,1], [1,2,2,1],padding='SAME')\n",
    "    shape = hidden.get_shape().as_list()\n",
    "    reshape = tf.reshape(hidden, [shape[0], shape[1] * shape[2] * shape[3]])\n",
    "    hidden = tf.nn.relu(tf.matmul(reshape, layer3_weights) + layer3_biases)\n",
    "    hidden2 = tf.nn.relu(tf.matmul(hidden, layer4_weights) + layer4_biases)\n",
    "    return tf.matmul(hidden2, layer5_weights) + layer5_biases\n",
    "  \n",
    "  # Training computation.\n",
    "  logits = model(tf_train_dataset)\n",
    "  loss1 = tf.sqrt(tf.reduce_mean(tf.square(tf.subtract(logits, tf_train_labels))))\n",
    "  loss = loss1 + beta * (tf.nn.l2_loss(layer1_weights) + tf.nn.l2_loss(layer2_weights) + tf.nn.l2_loss(layer3_weights) + tf.nn.l2_loss(layer4_weights) + tf.nn.l2_loss(layer5_weights))\n",
    "    \n",
    " # Optimizer.\n",
    "  global_step = tf.Variable(0)  # count the number of steps taken.\n",
    "  #learning_rate = tf.train.exponential_decay(0.3, global_step, 5000 ,0.96, staircase = True) #5000\n",
    "  learning_rate = tf.Variable(0.3)\n",
    "  optimizer = tf.train.AdagradOptimizer(learning_rate).minimize(loss, global_step=global_step)\n",
    "   \n",
    "\n",
    "  # Predictions for the training, validation, and test data.\n",
    "  def prediction(logits):\n",
    "    pred1 = tf.nn.softmax(logits[:,0:3])\n",
    "    pred2 = tf.nn.relu(logits[:,3:num_labels])\n",
    "    pred = tf.concat([pred1, pred2],1)\n",
    "    return pred\n",
    "  train_prediction1 = prediction(logits)\n",
    "   #drop out some of the predictions\n",
    "  train_prediction = tf.nn.dropout(train_prediction1,0.5)\n",
    "  \n",
    "\n",
    "  valid_prediction =prediction(model(valid_dataset))\n",
    "  test_prediction = prediction(model(test_dataset))\n",
    "\n",
    "  tf.add_to_collection('vars',  layer1_weights)\n",
    "  tf.add_to_collection('vars',  layer2_weights)\n",
    "  tf.add_to_collection('vars',  layer3_weights)\n",
    "  tf.add_to_collection('vars',  layer4_weights)\n",
    "  tf.add_to_collection('vars',  layer5_weights)\n",
    "  tf.add_to_collection('vars',  layer1_biases)\n",
    "  tf.add_to_collection('vars',  layer2_biases)\n",
    "  tf.add_to_collection('vars',  layer3_biases)\n",
    "  tf.add_to_collection('vars',  layer4_biases)\n",
    "  tf.add_to_collection('vars',  layer5_biases)\n",
    "  saver = tf.train.Saver(write_version=tf.train.SaverDef.V2)"
   ]
  },
  {
   "cell_type": "code",
   "execution_count": 11,
   "metadata": {
    "collapsed": false,
    "deletable": true,
    "editable": true
   },
   "outputs": [
    {
     "name": "stdout",
     "output_type": "stream",
     "text": [
      "Model restored.\n",
      "Initialized\n",
      "Test accuracy: 0.114564\n"
     ]
    }
   ],
   "source": [
    "gc.collect()\n",
    "acc = 0\n",
    "t = []\n",
    "with tf.Session(graph=graph) as session:\n",
    "    tf.global_variables_initializer().run()\n",
    "    \n",
    "    saver.restore(session, './my-model4.ckpt')\n",
    "    print(\"Model restored.\") \n",
    "    print('Initialized')\n",
    "    for i in range(0,20): \n",
    "        a = accuracy((prediction(model(test_dataset[i*1000:(i+1)*1000]))).eval(), test_labels[i*1000:(i+1)*1000])\n",
    "        acc = acc + a\n",
    "        t.append(a)\n",
    "    plt.plot(range(0,20), t, 'g')\n",
    "    plt.axis([0, 20, 0, 0.2])\n",
    "    acc = acc / 20\n",
    "    print('Test accuracy: %f' % acc)"
   ]
  },
  {
   "cell_type": "code",
   "execution_count": 12,
   "metadata": {
    "collapsed": false,
    "deletable": true,
    "editable": true
   },
   "outputs": [
    {
     "name": "stdout",
     "output_type": "stream",
     "text": [
      "100\n",
      "37\n"
     ]
    }
   ],
   "source": [
    "#     MODEL 3\n",
    "batch_size = 109\n",
    "patch_size = 5\n",
    "depth = 32 #32, 16\n",
    "num_hidden = 100\n",
    "num_hidden2 = 37\n",
    "beta = 0.0002\n",
    "graph = tf.Graph()\n",
    "\n",
    "with graph.as_default():\n",
    "\n",
    "  # Input data.\n",
    "  tf_train_dataset = tf.placeholder(\n",
    "    tf.float32, shape=(batch_size, image_size, image_size, num_channels))\n",
    "  tf_train_labels = tf.placeholder(tf.float32, shape=(batch_size, num_labels))\n",
    "  \n",
    "  # Variables.\n",
    "  layer1_weights = tf.Variable(tf.truncated_normal(\n",
    "      [patch_size, patch_size, num_channels, depth], stddev=0.1))\n",
    "  layer1_biases = tf.Variable(tf.zeros([depth]))\n",
    "  layer2_weights = tf.Variable(tf.truncated_normal(\n",
    "      [patch_size, patch_size, depth, depth], stddev=0.1))\n",
    "  layer2_biases = tf.Variable(tf.constant(1.0, shape=[depth]))\n",
    "  layer3_weights = tf.Variable(tf.truncated_normal(\n",
    "      [image_size // 4 * image_size // 4 * depth, num_hidden], stddev=sqrt(2.0/(image_size // 4 * image_size // 4 * depth * num_hidden))))\n",
    "  layer3_biases = tf.Variable(tf.constant(1.0, shape=[num_hidden]))\n",
    "  print(str(num_hidden))\n",
    "  layer4_weights = tf.Variable(tf.truncated_normal(\n",
    "      [num_hidden, num_hidden2], stddev=sqrt(2.0/(num_hidden * num_hidden2))))\n",
    "  layer4_biases = tf.Variable(tf.constant(1.0, shape=[num_hidden2]))\n",
    "  print(str(num_hidden2))\n",
    "  layer5_weights = tf.Variable(tf.truncated_normal(\n",
    "      [num_hidden2, num_labels], stddev=sqrt(2.0/(num_hidden2 * num_labels))))\n",
    "  layer5_biases = tf.Variable(tf.constant(1.0, shape=[num_labels]))\n",
    "\n",
    "  # Model.\n",
    "  def model(data):\n",
    "    conv = tf.nn.conv2d(data, layer1_weights, [1, 1, 1, 1], padding='SAME')\n",
    "    hidden1 = tf.nn.relu(conv + layer1_biases)\n",
    "    hidden =  tf.nn.max_pool(hidden1, [1,2,2,1], [1,2,2,1],padding='SAME')\n",
    "    conv = tf.nn.conv2d(hidden, layer2_weights, [1, 1, 1, 1], padding='SAME')\n",
    "    hidden1 = tf.nn.relu(conv + layer2_biases)\n",
    "    hidden =  tf.nn.max_pool(hidden1, [1,2,2,1], [1,2,2,1],padding='SAME')\n",
    "    shape = hidden.get_shape().as_list()\n",
    "    reshape = tf.reshape(hidden, [shape[0], shape[1] * shape[2] * shape[3]])\n",
    "    hidden = tf.nn.relu(tf.matmul(reshape, layer3_weights) + layer3_biases)\n",
    "    hidden2 = tf.nn.relu(tf.matmul(hidden, layer4_weights) + layer4_biases)\n",
    "    return tf.matmul(hidden2, layer5_weights) + layer5_biases\n",
    "  \n",
    "  # Training computation.\n",
    "  logits = model(tf_train_dataset)\n",
    "  loss1 = tf.sqrt(tf.reduce_mean(tf.square(tf.subtract(logits, tf_train_labels))))\n",
    "  loss = loss1 + beta * (tf.nn.l2_loss(layer1_weights) + tf.nn.l2_loss(layer2_weights) + tf.nn.l2_loss(layer3_weights) + tf.nn.l2_loss(layer4_weights) + tf.nn.l2_loss(layer5_weights))\n",
    "    \n",
    " # Optimizer.\n",
    "  global_step = tf.Variable(0)  # count the number of steps taken.\n",
    "  learning_rate = tf.train.exponential_decay(0.3, global_step, 5000 ,0.96, staircase = True) #5000\n",
    "  #learning_rate = tf.Variable(0.3)\n",
    "  optimizer = tf.train.GradientDescentOptimizer(learning_rate).minimize(loss, global_step=global_step)\n",
    "   \n",
    "\n",
    "  # Predictions for the training, validation, and test data.\n",
    "  def prediction(logits):\n",
    "    pred1 = tf.nn.softmax(logits[:,0:3])\n",
    "    pred2 = tf.nn.relu(logits[:,3:num_labels])\n",
    "    pred = tf.concat([pred1, pred2],1)\n",
    "    return pred\n",
    "  train_prediction1 = prediction(logits)\n",
    "   #drop out some of the predictions\n",
    "  train_prediction = tf.nn.dropout(train_prediction1,0.5)\n",
    "  \n",
    "\n",
    "  valid_prediction =prediction(model(valid_dataset))\n",
    "  test_prediction = prediction(model(test_dataset))\n",
    "\n",
    "  tf.add_to_collection('vars',  layer1_weights)\n",
    "  tf.add_to_collection('vars',  layer2_weights)\n",
    "  tf.add_to_collection('vars',  layer3_weights)\n",
    "  tf.add_to_collection('vars',  layer4_weights)\n",
    "  tf.add_to_collection('vars',  layer5_weights)\n",
    "  tf.add_to_collection('vars',  layer1_biases)\n",
    "  tf.add_to_collection('vars',  layer2_biases)\n",
    "  tf.add_to_collection('vars',  layer3_biases)\n",
    "  tf.add_to_collection('vars',  layer4_biases)\n",
    "  tf.add_to_collection('vars',  layer5_biases)\n",
    "  saver = tf.train.Saver(write_version=tf.train.SaverDef.V2)"
   ]
  },
  {
   "cell_type": "code",
   "execution_count": 13,
   "metadata": {
    "collapsed": false,
    "deletable": true,
    "editable": true
   },
   "outputs": [
    {
     "name": "stdout",
     "output_type": "stream",
     "text": [
      "Model restored.\n",
      "Initialized\n",
      "Test accuracy: 0.171488\n"
     ]
    }
   ],
   "source": [
    "gc.collect()\n",
    "acc = 0\n",
    "t = []\n",
    "with tf.Session(graph=graph) as session:\n",
    "    tf.global_variables_initializer().run()\n",
    "    \n",
    "    saver.restore(session, './my-model3.ckpt')\n",
    "    print(\"Model restored.\") \n",
    "    print('Initialized')\n",
    "    for i in range(0,20): \n",
    "        a = accuracy((prediction(model(test_dataset[i*1000:(i+1)*1000]))).eval(), test_labels[i*1000:(i+1)*1000])\n",
    "        acc = acc + a\n",
    "        t.append(a)\n",
    "    plt.plot(range(0,20), t, 'y')\n",
    "    plt.axis([0, 20, 0, 0.2])\n",
    "    acc = acc / 20\n",
    "    print('Test accuracy: %f' % acc)"
   ]
  },
  {
   "cell_type": "code",
   "execution_count": 14,
   "metadata": {
    "collapsed": false,
    "deletable": true,
    "editable": true
   },
   "outputs": [
    {
     "data": {
      "image/png": "[encoded data removed]",
      "text/plain": [
       "<matplotlib.figure.Figure at 0x2a4af354c88>"
      ]
     },
     "metadata": {},
     "output_type": "display_data"
    }
   ],
   "source": [
    "    plt.show()"
   ]
  }
 ],
 "metadata": {
  "kernelspec": {
   "display_name": "Python 3",
   "language": "python",
   "name": "python3"
  },
  "language_info": {
   "codemirror_mode": {
    "name": "ipython",
    "version": 3
   },
   "file_extension": ".py",
   "mimetype": "text/x-python",
   "name": "python",
   "nbconvert_exporter": "python",
   "pygments_lexer": "ipython3",
   "version": "3.5.2"
  }
 },
 "nbformat": 4,
 "nbformat_minor": 2
}
