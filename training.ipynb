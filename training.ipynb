{
 "cells": [
  {
   "cell_type": "code",
   "execution_count": 1,
   "metadata": {
    "collapsed": true,
    "deletable": true,
    "editable": true
   },
   "outputs": [],
   "source": [
    "# These are all the modules we'll be using later. Make sure you can import them\n",
    "# before proceeding further.\n",
    "from __future__ import print_function\n",
    "import numpy as np\n",
    "import tensorflow as tf\n",
    "from six.moves import cPickle as pickle\n",
    "from six.moves import range\n",
    "from math import sqrt\n",
    "import matplotlib.pyplot as plt\n",
    "import gc"
   ]
  },
  {
   "cell_type": "code",
   "execution_count": 2,
   "metadata": {
    "collapsed": false,
    "deletable": true,
    "editable": true
   },
   "outputs": [
    {
     "name": "stdout",
     "output_type": "stream",
     "text": [
      "Training set (200000, 80, 80) (200000, 37)\n",
      "Validation set (1000, 80, 80) (1000, 37)\n",
      "Test set (1000, 80, 80) (1000, 37)\n"
     ]
    }
   ],
   "source": [
    "pickle_file = 'galaxies.pickle'\n",
    "\n",
    "with open(pickle_file, 'rb') as f:\n",
    "  save = pickle.load(f)\n",
    "  train_dataset = (save['train_dataset'])\n",
    "  train_labels = save['train_labels']\n",
    "  valid_dataset = (save['valid_dataset'])[0:1000]\n",
    "  valid_labels = (save['valid_labels'])[0:1000]\n",
    "  test_dataset = (save['test_dataset'])[0:1000]\n",
    "  test_labels = (save['test_labels'])[0:1000]\n",
    "  del save  # hint to help gc free up memory\n",
    "  print('Training set', train_dataset.shape, train_labels.shape)\n",
    "  print('Validation set', valid_dataset.shape, valid_labels.shape)\n",
    "  print('Test set', test_dataset.shape, test_labels.shape)"
   ]
  },
  {
   "cell_type": "code",
   "execution_count": 3,
   "metadata": {
    "collapsed": false,
    "deletable": true,
    "editable": true
   },
   "outputs": [
    {
     "name": "stdout",
     "output_type": "stream",
     "text": [
      "[[-0.46470588 -0.47254902 -0.48823529 ..., -0.49215686 -0.49215686\n",
      "  -0.49215686]\n",
      " [-0.46470588 -0.47254902 -0.48431373 ..., -0.48431373 -0.48823529\n",
      "  -0.48823529]\n",
      " [-0.46862745 -0.47647059 -0.48431373 ..., -0.47647059 -0.48039216\n",
      "  -0.48039216]\n",
      " ..., \n",
      " [-0.48431373 -0.49215686 -0.5        ..., -0.46470588 -0.42941177\n",
      "  -0.39803922]\n",
      " [-0.48431373 -0.49215686 -0.49215686 ..., -0.45686275 -0.41764706\n",
      "  -0.39019608]\n",
      " [-0.48823529 -0.48823529 -0.48039216 ..., -0.45686275 -0.4254902\n",
      "  -0.39803922]]\n"
     ]
    }
   ],
   "source": [
    "print(train_dataset[5])"
   ]
  },
  {
   "cell_type": "code",
   "execution_count": 4,
   "metadata": {
    "collapsed": true,
    "deletable": true,
    "editable": true
   },
   "outputs": [],
   "source": [
    "image_size = 80\n",
    "num_labels = 37\n",
    "num_channels = 1 # grayscale\n",
    "\n",
    "def reformat(dataset):\n",
    "  dataset = dataset.reshape((-1, image_size, image_size, num_channels)).astype(np.float32)\n",
    "  # Map 0 to [1.0, 0.0, 0.0 ...], 1 to [0.0, 1.0, 0.0 ...]\n",
    "  return dataset\n",
    "\n",
    "def accuracy(predictions, labels):\n",
    "    return np.sqrt(((predictions - labels) ** 2).mean())\n",
    "    "
   ]
  },
  {
   "cell_type": "code",
   "execution_count": 5,
   "metadata": {
    "collapsed": false,
    "deletable": true,
    "editable": true
   },
   "outputs": [
    {
     "name": "stdout",
     "output_type": "stream",
     "text": [
      "Training set (200000, 80, 80, 1) (200000, 37)\n",
      "Validation set (1000, 80, 80, 1) (1000, 37)\n",
      "Test set (1000, 80, 80, 1) (1000, 37)\n"
     ]
    }
   ],
   "source": [
    "\n",
    "train_dataset = reformat(train_dataset)\n",
    "valid_dataset = reformat(valid_dataset)\n",
    "test_dataset = reformat(test_dataset)\n",
    "print('Training set', train_dataset.shape, train_labels.shape)\n",
    "print('Validation set', valid_dataset.shape, valid_labels.shape)\n",
    "print('Test set', test_dataset.shape, test_labels.shape)"
   ]
  },
  {
   "cell_type": "code",
   "execution_count": 6,
   "metadata": {
    "collapsed": false,
    "deletable": true,
    "editable": true
   },
   "outputs": [
    {
     "data": {
      "text/plain": [
       "187"
      ]
     },
     "execution_count": 6,
     "metadata": {},
     "output_type": "execute_result"
    }
   ],
   "source": [
    "gc.collect()"
   ]
  },
  {
   "cell_type": "code",
   "execution_count": 7,
   "metadata": {
    "collapsed": false,
    "deletable": true,
    "editable": true
   },
   "outputs": [
    {
     "name": "stdout",
     "output_type": "stream",
     "text": [
      "48\n",
      "48\n"
     ]
    }
   ],
   "source": [
    "batch_size = 128\n",
    "patch_size = 5\n",
    "depth = 32 #32, 16\n",
    "num_hidden = 48 #50#100\n",
    "num_hidden2 = 48 #50#37\n",
    "beta = 0.0002 \n",
    "graph = tf.Graph()\n",
    "\n",
    "with graph.as_default():\n",
    "\n",
    "  # Input data\n",
    "  tf_train_dataset = tf.placeholder(\n",
    "    tf.float32, shape=(batch_size, image_size, image_size, num_channels))\n",
    "  tf_train_labels = tf.placeholder(tf.float32, shape=(batch_size, num_labels))\n",
    "  \n",
    "  # Variables\n",
    "  layer1_weights = tf.Variable(tf.truncated_normal(\n",
    "      [patch_size, patch_size, num_channels, depth], stddev=0.1))\n",
    "  layer1_biases = tf.Variable(tf.zeros([depth]))\n",
    "  layer2_weights = tf.Variable(tf.truncated_normal(\n",
    "      [patch_size, patch_size, depth, depth], stddev=0.1))\n",
    "  layer2_biases = tf.Variable(tf.constant(1.0, shape=[depth]))\n",
    "  layer3_weights = tf.Variable(tf.truncated_normal(\n",
    "      [image_size // 4 * image_size // 4 * depth, num_hidden], stddev=sqrt(2.0/(image_size // 4 * image_size // 4 * depth * num_hidden))))\n",
    "  layer3_biases = tf.Variable(tf.constant(1.0, shape=[num_hidden]))\n",
    "  print(str(num_hidden))\n",
    "  layer4_weights = tf.Variable(tf.truncated_normal(\n",
    "      [num_hidden, num_hidden2], stddev=sqrt(2.0/(num_hidden * num_hidden2))))\n",
    "  layer4_biases = tf.Variable(tf.constant(1.0, shape=[num_hidden2]))\n",
    "  print(str(num_hidden2))\n",
    "  layer5_weights = tf.Variable(tf.truncated_normal(\n",
    "      [num_hidden2, num_labels], stddev=sqrt(2.0/(num_hidden2 * num_labels))))\n",
    "  layer5_biases = tf.Variable(tf.constant(1.0, shape=[num_labels]))\n",
    "\n",
    "  # Model.\n",
    "  def model(data):\n",
    "    conv = tf.nn.conv2d(data, layer1_weights, [1, 1, 1, 1], padding='SAME')\n",
    "    hidden1 = tf.nn.relu(conv + layer1_biases)\n",
    "    hidden =  tf.nn.max_pool(hidden1, [1,2,2,1], [1,2,2,1],padding='SAME')\n",
    "    conv = tf.nn.conv2d(hidden, layer2_weights, [1, 1, 1, 1], padding='SAME')\n",
    "    hidden1 = tf.nn.relu(conv + layer2_biases)\n",
    "    hidden =  tf.nn.max_pool(hidden1, [1,2,2,1], [1,2,2,1],padding='SAME')\n",
    "    shape = hidden.get_shape().as_list()\n",
    "    reshape = tf.reshape(hidden, [shape[0], shape[1] * shape[2] * shape[3]])\n",
    "    hidden = tf.nn.relu(tf.matmul(reshape, layer3_weights) + layer3_biases)\n",
    "    hidden2 = tf.nn.relu(tf.matmul(hidden, layer4_weights) + layer4_biases)\n",
    "    return tf.matmul(hidden2, layer5_weights) + layer5_biases\n",
    "  \n",
    "  # Training computation.\n",
    "  logits = model(tf_train_dataset)\n",
    "  loss1 = tf.sqrt(tf.reduce_mean(tf.square(tf.subtract(logits, tf_train_labels))))\n",
    "  loss = loss1 + beta * (tf.nn.l2_loss(layer1_weights) + tf.nn.l2_loss(layer2_weights) + tf.nn.l2_loss(layer3_weights) + tf.nn.l2_loss(layer4_weights) + tf.nn.l2_loss(layer5_weights))\n",
    "    \n",
    " # Optimizer.\n",
    "  global_step = tf.Variable(0)  # count the number of steps taken.\n",
    "  #learning_rate = tf.train.exponential_decay(0.3, global_step, 5000 ,0.96, staircase = True) #5000\n",
    "  learning_rate = tf.Variable(0.3)\n",
    "  optimizer = tf.train.AdagradOptimizer(learning_rate).minimize(loss, global_step=global_step)\n",
    "   \n",
    "\n",
    "  # Predictions for the training, validation, and test data.\n",
    "  def prediction(logits):\n",
    "    pred1 = tf.nn.softmax(logits[:,0:3])\n",
    "    pred2 = tf.nn.relu(logits[:,3:num_labels])\n",
    "    pred = tf.concat([pred1, pred2],1)\n",
    "    return pred\n",
    "  train_prediction1 = prediction(logits)\n",
    "    \n",
    "  #drop out some of the predictions\n",
    "  train_prediction = tf.nn.dropout(train_prediction1,0.5)\n",
    "  \n",
    "  valid_prediction =prediction(model(valid_dataset))\n",
    "  test_prediction = prediction(model(test_dataset))\n",
    "\n",
    "  tf.add_to_collection('vars',  layer1_weights)\n",
    "  tf.add_to_collection('vars',  layer2_weights)\n",
    "  tf.add_to_collection('vars',  layer3_weights)\n",
    "  tf.add_to_collection('vars',  layer4_weights)\n",
    "  tf.add_to_collection('vars',  layer5_weights)\n",
    "  tf.add_to_collection('vars',  layer1_biases)\n",
    "  tf.add_to_collection('vars',  layer2_biases)\n",
    "  tf.add_to_collection('vars',  layer3_biases)\n",
    "  tf.add_to_collection('vars',  layer4_biases)\n",
    "  tf.add_to_collection('vars',  layer5_biases)\n",
    "  saver = tf.train.Saver(write_version=tf.train.SaverDef.V2)"
   ]
  },
  {
   "cell_type": "code",
   "execution_count": 8,
   "metadata": {
    "collapsed": false,
    "deletable": true,
    "editable": true,
    "scrolled": true
   },
   "outputs": [
    {
     "name": "stdout",
     "output_type": "stream",
     "text": [
      "Initialized\n",
      "Minibatch loss at step 0: 0.934167\n",
      "Minibatch accuracy: 1.312427\n",
      "Validation accuracy: 0.220783\n",
      "Minibatch loss at step 500: 0.198056\n",
      "Minibatch accuracy: 0.258812\n",
      "Validation accuracy: 0.189577\n",
      "Minibatch loss at step 1000: 0.174055\n",
      "Minibatch accuracy: 0.265365\n",
      "Validation accuracy: 0.165184\n",
      "Minibatch loss at step 1500: 0.185106\n",
      "Minibatch accuracy: 0.283319\n",
      "Validation accuracy: 0.171767\n",
      "Minibatch loss at step 2000: 0.169156\n",
      "Minibatch accuracy: 0.256111\n",
      "Validation accuracy: 0.158719\n",
      "Minibatch loss at step 2500: 0.155521\n",
      "Minibatch accuracy: 0.262591\n",
      "Validation accuracy: 0.159571\n",
      "Minibatch loss at step 3000: 0.155953\n",
      "Minibatch accuracy: 0.274575\n",
      "Validation accuracy: 0.144571\n",
      "Minibatch loss at step 3500: 0.144823\n",
      "Minibatch accuracy: 0.272510\n",
      "Validation accuracy: 0.142794\n",
      "Minibatch loss at step 4000: 0.132383\n",
      "Minibatch accuracy: 0.265135\n",
      "Validation accuracy: 0.141404\n",
      "Minibatch loss at step 4500: 0.128904\n",
      "Minibatch accuracy: 0.264093\n",
      "Validation accuracy: 0.138322\n",
      "Minibatch loss at step 5000: 0.129312\n",
      "Minibatch accuracy: 0.265555\n",
      "Validation accuracy: 0.137848\n",
      "Minibatch loss at step 5500: 0.126727\n",
      "Minibatch accuracy: 0.265327\n",
      "Validation accuracy: 0.133526\n",
      "Minibatch loss at step 6000: 0.135495\n",
      "Minibatch accuracy: 0.263686\n",
      "Validation accuracy: 0.134735\n",
      "Minibatch loss at step 6500: 0.134173\n",
      "Minibatch accuracy: 0.260045\n",
      "Validation accuracy: 0.134716\n",
      "Minibatch loss at step 7000: 0.125260\n",
      "Minibatch accuracy: 0.272040\n",
      "Validation accuracy: 0.131110\n",
      "Minibatch loss at step 7500: 0.131927\n",
      "Minibatch accuracy: 0.266267\n",
      "Validation accuracy: 0.130461\n",
      "Minibatch loss at step 8000: 0.114391\n",
      "Minibatch accuracy: 0.246868\n",
      "Validation accuracy: 0.128511\n",
      "Minibatch loss at step 8500: 0.118399\n",
      "Minibatch accuracy: 0.261002\n",
      "Validation accuracy: 0.128443\n",
      "Minibatch loss at step 9000: 0.121126\n",
      "Minibatch accuracy: 0.262956\n",
      "Validation accuracy: 0.125842\n",
      "Minibatch loss at step 9500: 0.135474\n",
      "Minibatch accuracy: 0.266844\n",
      "Validation accuracy: 0.127199\n",
      "Minibatch loss at step 10000: 0.117780\n",
      "Minibatch accuracy: 0.264902\n",
      "Validation accuracy: 0.126001\n",
      "Minibatch loss at step 10500: 0.114257\n",
      "Minibatch accuracy: 0.263610\n",
      "Validation accuracy: 0.125463\n",
      "Minibatch loss at step 11000: 0.123740\n",
      "Minibatch accuracy: 0.270845\n",
      "Validation accuracy: 0.123791\n",
      "Minibatch loss at step 11500: 0.117358\n",
      "Minibatch accuracy: 0.271239\n",
      "Validation accuracy: 0.125791\n",
      "Minibatch loss at step 12000: 0.123985\n",
      "Minibatch accuracy: 0.267440\n",
      "Validation accuracy: 0.123922\n",
      "Minibatch loss at step 12500: 0.135498\n",
      "Minibatch accuracy: 0.262701\n",
      "Validation accuracy: 0.123886\n",
      "Minibatch loss at step 13000: 0.114806\n",
      "Minibatch accuracy: 0.261675\n",
      "Validation accuracy: 0.122822\n",
      "Minibatch loss at step 13500: 0.115989\n",
      "Minibatch accuracy: 0.259666\n",
      "Validation accuracy: 0.122295\n",
      "Minibatch loss at step 14000: 0.117557\n",
      "Minibatch accuracy: 0.265432\n",
      "Validation accuracy: 0.121851\n",
      "Minibatch loss at step 14500: 0.116002\n",
      "Minibatch accuracy: 0.263862\n",
      "Validation accuracy: 0.121579\n",
      "Test accuracy: 0.119981\n"
     ]
    }
   ],
   "source": [
    "num_steps = 15000\n",
    "t=0\n",
    "i = []\n",
    "trainloss = []\n",
    "validloss = []\n",
    "with tf.Session(graph=graph) as session:\n",
    "  tf.global_variables_initializer().run()\n",
    "  print('Initialized')\n",
    "  for step in range(num_steps):\n",
    "    offset = (step * batch_size) % (train_labels.shape[0] - batch_size)\n",
    "    batch_data = train_dataset[offset:(offset + batch_size), :, :, :]\n",
    "    batch_labels = train_labels[offset:(offset + batch_size), :]\n",
    "    feed_dict = {tf_train_dataset : batch_data, tf_train_labels : batch_labels}\n",
    "    _, l, predictions = session.run(\n",
    "      [optimizer, loss, train_prediction], feed_dict=feed_dict)\n",
    "    \n",
    "    if (step % 500 == 0):\n",
    "      i.append(step)\n",
    "      gc.collect()\n",
    "      print('Minibatch loss at step %d: %f' % (step, l))\n",
    "      trainloss.append(l)\n",
    "      print('Minibatch accuracy: %f' % accuracy(predictions, batch_labels))\n",
    "      print('Validation accuracy: %f' % accuracy(\n",
    "        valid_prediction.eval(), valid_labels))\n",
    "      validloss.append(accuracy(valid_prediction.eval(), valid_labels))\n",
    "      saver.save(session, './my-model11.ckpt')\n",
    "        \n",
    "\n",
    "  print('Test accuracy: %f' % accuracy(test_prediction.eval(), test_labels))\n",
    "  plt.plot(15000, accuracy(test_prediction.eval(), test_labels), 'go')\n",
    "    \n",
    "  plt.plot(i, trainloss, 'r')\n",
    "  plt.plot(i, validloss, 'b')\n",
    "  plt.axis([0, 15000, 0, 0.5])\n",
    "  t = accuracy(test_prediction.eval(), test_labels)"
   ]
  },
  {
   "cell_type": "code",
   "execution_count": 11,
   "metadata": {
    "collapsed": false,
    "deletable": true,
    "editable": true,
    "scrolled": true
   },
   "outputs": [
    {
     "data": {
      "image/png": "[encoded data removed]",
      "text/plain": [
       "<matplotlib.figure.Figure at 0x16b7059f6a0>"
      ]
     },
     "metadata": {},
     "output_type": "display_data"
    }
   ],
   "source": [
    "plt.plot(i, trainloss, 'r')\n",
    "plt.plot(i, validloss, 'b')\n",
    "plt.plot(15000, t, 'go')\n",
    "plt.axis([0, 16000, 0, 0.5])\n",
    "plt.show()"
   ]
  },
  {
   "cell_type": "code",
   "execution_count": 12,
   "metadata": {
    "collapsed": false,
    "deletable": true,
    "editable": true
   },
   "outputs": [
    {
     "name": "stdout",
     "output_type": "stream",
     "text": [
      "Model restored.\n",
      "Initialized\n",
      "Minibatch loss at step 0: 0.123043\n",
      "Minibatch accuracy: 0.271451\n",
      "Validation accuracy: 0.129672\n",
      "Minibatch loss at step 500: 0.123144\n",
      "Minibatch accuracy: 0.266289\n",
      "Validation accuracy: 0.127699\n",
      "Minibatch loss at step 1000: 0.129410\n",
      "Minibatch accuracy: 0.262100\n",
      "Validation accuracy: 0.130589\n",
      "Minibatch loss at step 1500: 0.129361\n",
      "Minibatch accuracy: 0.279013\n",
      "Validation accuracy: 0.129719\n",
      "Minibatch loss at step 2000: 0.126717\n",
      "Minibatch accuracy: 0.259416\n",
      "Validation accuracy: 0.127769\n",
      "Minibatch loss at step 2500: 0.120453\n",
      "Minibatch accuracy: 0.270692\n",
      "Validation accuracy: 0.127024\n",
      "Minibatch loss at step 3000: 0.127933\n",
      "Minibatch accuracy: 0.273752\n",
      "Validation accuracy: 0.126708\n",
      "Minibatch loss at step 3500: 0.126988\n",
      "Minibatch accuracy: 0.280714\n",
      "Validation accuracy: 0.126501\n",
      "Minibatch loss at step 4000: 0.111551\n",
      "Minibatch accuracy: 0.257914\n",
      "Validation accuracy: 0.125689\n",
      "Minibatch loss at step 4500: 0.119802\n",
      "Minibatch accuracy: 0.257974\n",
      "Validation accuracy: 0.129427\n",
      "Minibatch loss at step 5000: 0.112053\n",
      "Minibatch accuracy: 0.266035\n",
      "Validation accuracy: 0.125813\n",
      "Minibatch loss at step 5500: 0.121707\n",
      "Minibatch accuracy: 0.269919\n",
      "Validation accuracy: 0.126332\n",
      "Test accuracy: 0.120277\n"
     ]
    }
   ],
   "source": [
    "num_steps = 6000#60000\n",
    "with tf.Session(graph=graph) as session:\n",
    "    tf.global_variables_initializer().run()\n",
    "    \n",
    "    saver.restore(session, './my-model8.ckpt')\n",
    "    print(\"Model restored.\") \n",
    "    print('Initialized')\n",
    "    \n",
    "    for step in range(num_steps):\n",
    "        offset = (step * batch_size) % (train_labels.shape[0] - batch_size)\n",
    "        batch_data = train_dataset[offset:(offset + batch_size), :, :, :]\n",
    "        batch_labels = train_labels[offset:(offset + batch_size), :]\n",
    "        feed_dict = {tf_train_dataset : batch_data, tf_train_labels : batch_labels}\n",
    "        _, l, predictions = session.run(\n",
    "          [optimizer, loss, train_prediction], feed_dict=feed_dict)\n",
    "        if (step % 500 == 0):\n",
    "          gc.collect()\n",
    "          print('Minibatch loss at step %d: %f' % (step, l))\n",
    "          print('Minibatch accuracy: %f' % accuracy(predictions, batch_labels))\n",
    "          print('Validation accuracy: %f' % accuracy(\n",
    "            valid_prediction.eval(), valid_labels))\n",
    "          saver.save(session, './my-model11.ckpt')\n",
    "    \n",
    "    print('Test accuracy: %f' % accuracy(test_prediction.eval(), test_labels))\n",
    "    \n",
    "  "
   ]
  },
  {
   "cell_type": "code",
   "execution_count": null,
   "metadata": {
    "collapsed": true
   },
   "outputs": [],
   "source": []
  }
 ],
 "metadata": {
  "kernelspec": {
   "display_name": "Python 3",
   "language": "python",
   "name": "python3"
  },
  "language_info": {
   "codemirror_mode": {
    "name": "ipython",
    "version": 3
   },
   "file_extension": ".py",
   "mimetype": "text/x-python",
   "name": "python",
   "nbconvert_exporter": "python",
   "pygments_lexer": "ipython3",
   "version": "3.5.2"
  }
 },
 "nbformat": 4,
 "nbformat_minor": 2
}
